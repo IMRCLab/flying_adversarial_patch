{
 "cells": [
  {
   "cell_type": "code",
   "execution_count": null,
   "metadata": {},
   "outputs": [],
   "source": [
    "import numpy as np\n",
    "from matplotlib import pyplot as plt\n",
    "from matplotlib.image import imread\n",
    "\n",
    "import rowan\n",
    "import pandas as pd"
   ]
  },
  {
   "cell_type": "code",
   "execution_count": null,
   "metadata": {},
   "outputs": [],
   "source": [
    "# please make sure this notebook and the folder '1k' with the images are in the same place\n",
    "image = imread(\"1k/img_00001.jpg\")\n",
    "plt.imshow(image, cmap='gray')"
   ]
  },
  {
   "cell_type": "code",
   "execution_count": null,
   "metadata": {},
   "outputs": [],
   "source": [
    "# reading the csv file and printing out all the label names\n",
    "df = pd.read_csv(\"1k/robotLabel.csv\")\n",
    "print(df.columns)"
   ]
  },
  {
   "cell_type": "code",
   "execution_count": null,
   "metadata": {},
   "outputs": [],
   "source": [
    "# ordering the values from the csv file\n",
    "pos_uav = [df['y'][1], df['z'][1], df['x'][1], df[' qx'][1], df[' qy'][1], df[' qz '][1], df['qw'][1],]\n",
    "print(pos_uav)"
   ]
  },
  {
   "cell_type": "code",
   "execution_count": null,
   "metadata": {},
   "outputs": [],
   "source": [
    "# setting the camera intrinsics matrix and define function to calculate the pixel coordinates\n",
    "camera_intrinsics = np.array([[-170, 0, 160],\n",
    "                     [0, -170, 160],\n",
    "                     [0,  0,  1],\n",
    "                     ])\n",
    "\n",
    "def get_pixel_coords(camera_intrinsics, pose_3d):\n",
    "    u, w, z = camera_intrinsics @ pose_3d\n",
    "    x_img = round(u/z)\n",
    "    y_img = round(w/z)\n",
    "    return x_img, y_img"
   ]
  },
  {
   "cell_type": "code",
   "execution_count": null,
   "metadata": {},
   "outputs": [],
   "source": [
    "# sanity check if calculation works\n",
    "plt.imshow(image, cmap='gray')\n",
    "plt.scatter(*get_pixel_coords(camera_intrinsics, pos_uav[:3]))"
   ]
  },
  {
   "cell_type": "code",
   "execution_count": null,
   "metadata": {},
   "outputs": [],
   "source": [
    "# calculating roation matrix with qx, qy, qz, qw\n",
    "rotation = rowan.to_matrix(pos_uav[3:])\n",
    "print(rotation)"
   ]
  },
  {
   "cell_type": "code",
   "execution_count": null,
   "metadata": {},
   "outputs": [],
   "source": [
    "# setting the full transfromation matrix CF in camera frame\n",
    "T_uav_in_camera = np.array([[*rotation[0], pos_uav[0]],\n",
    "                            [*rotation[1], pos_uav[1]],\n",
    "                            [*rotation[2], pos_uav[2]],\n",
    "                            [0., 0., 0., 1.]])\n",
    "print(T_uav_in_camera)"
   ]
  },
  {
   "cell_type": "code",
   "execution_count": null,
   "metadata": {},
   "outputs": [],
   "source": [
    "# create a random patch\n",
    "# the patch has a single color channel only, since the images from the dataset are grayscale\n",
    "patch = (np.random.rand(100, 100, 1) * 255.).astype(int)\n",
    "plt.imshow(patch, cmap='gray')"
   ]
  },
  {
   "cell_type": "code",
   "execution_count": null,
   "metadata": {},
   "outputs": [],
   "source": [
    "# manually setting the transformation matrix\n",
    "T_patch_in_uav = np.array([[0.001, 0., 0., -0.05],\n",
    "                  [0., 0.001, 0., -0.05],\n",
    "                  [0., 0., 0.001, 0.],\n",
    "                  [0., 0., 0., 1.]])\n",
    "\n",
    "print(T_patch_in_uav)"
   ]
  },
  {
   "cell_type": "code",
   "execution_count": null,
   "metadata": {},
   "outputs": [],
   "source": [
    "# calculated values for the corner of the patch in UAV frame\n",
    "print(T_patch_in_uav @ [0., 0., 0., 1.])\n",
    "print(T_patch_in_uav @ [0., 100., 0., 1.])\n",
    "print(T_patch_in_uav @ [100., 100., 0., 1.])\n",
    "print(T_patch_in_uav @ [100., 0., 0., 1.])"
   ]
  },
  {
   "cell_type": "code",
   "execution_count": null,
   "metadata": {},
   "outputs": [],
   "source": [
    "# sanity check -> scaling still fine?\n",
    "fig = plt.figure()\n",
    "ax = plt.axes(projection=\"3d\")\n",
    "ax.scatter3D(0., 0., 0., color='r')\n",
    "ax.scatter3D(*((T_patch_in_uav @ [0., 0., 0., 1.])[:3]), color='b')\n",
    "ax.scatter3D(*((T_patch_in_uav @ [0., 100., 0., 1.])[:3]), color='b')\n",
    "ax.scatter3D(*((T_patch_in_uav @ [100., 100., 0., 1.])[:3]), color='b')\n",
    "ax.scatter3D(*((T_patch_in_uav @ [100., 0., 0., 1.])[:3]), color='b')"
   ]
  },
  {
   "cell_type": "code",
   "execution_count": null,
   "metadata": {},
   "outputs": [],
   "source": [
    "# sanity check for patch and uav in camera frame -> scaling still fine?\n",
    "fig = plt.figure()\n",
    "ax = plt.axes(projection=\"3d\")\n",
    "ax.scatter3D(*pos_uav[:3], color='r')\n",
    "ax.scatter3D(*((T_uav_in_camera@T_patch_in_uav @ [0., 0., 0., 1.])[:3]), color='b')\n",
    "ax.scatter3D(*((T_uav_in_camera@T_patch_in_uav @ [0., 100., 0., 1.])[:3]), color='b')\n",
    "ax.scatter3D(*((T_uav_in_camera@T_patch_in_uav @ [100., 100., 0., 1.])[:3]), color='b')\n",
    "ax.scatter3D(*((T_uav_in_camera@T_patch_in_uav @ [100., 0., 0., 1.])[:3]), color='b')"
   ]
  },
  {
   "cell_type": "code",
   "execution_count": null,
   "metadata": {},
   "outputs": [],
   "source": [
    "# check if four corners of the patch end up at the right coordinates\n",
    "plt.imshow(image, cmap='gray')\n",
    "plt.scatter(*get_pixel_coords(camera_intrinsics, pos_uav[:3]), color='r')\n",
    "plt.scatter(*get_pixel_coords(camera_intrinsics, (T_uav_in_camera@T_patch_in_uav @ [0., 0., 0., 1.])[:3]), color='b')\n",
    "plt.scatter(*get_pixel_coords(camera_intrinsics, (T_uav_in_camera@T_patch_in_uav @ [100., 0., 0., 1.])[:3]), color='b')\n",
    "plt.scatter(*get_pixel_coords(camera_intrinsics, (T_uav_in_camera@T_patch_in_uav @ [100., 100., 0., 1.])[:3]), color='b')\n",
    "plt.scatter(*get_pixel_coords(camera_intrinsics, (T_uav_in_camera@T_patch_in_uav @ [0., 100., 0., 1.])[:3]), color='b')"
   ]
  },
  {
   "cell_type": "code",
   "execution_count": null,
   "metadata": {},
   "outputs": [],
   "source": [
    "# now over to placing the whole patch\n",
    "# first, get a 4xn matrix with all pixel-coordinates of the patch\n",
    "# first pixel will we first column -> (0, 0, 0, 1)\n",
    "# last pixel is last column .> (99, 99, 0, 1)\n",
    "indy, indx = np.indices((patch.shape[0], patch.shape[1]), dtype=np.float32)\n",
    "lin_homg_ind = np.array([indx.ravel(), indy.ravel(), np.zeros_like(indx).ravel(), np.ones_like(indx).ravel()])\n",
    "print(lin_homg_ind)"
   ]
  },
  {
   "cell_type": "code",
   "execution_count": null,
   "metadata": {},
   "outputs": [],
   "source": [
    "# calculate all x_img and y_img for the translated patch\n",
    "u, w, z = camera_intrinsics@(T_uav_in_camera@T_patch_in_uav @ lin_homg_ind)[:3]\n",
    "\n",
    "all_x = u/z\n",
    "all_y = w/z\n",
    "print(all_x)\n",
    "print(all_y)"
   ]
  },
  {
   "cell_type": "code",
   "execution_count": null,
   "metadata": {},
   "outputs": [],
   "source": [
    "# prepare both array -> round, they need to be integers and reshape both arrays for the following loop\n",
    "all_x = np.round(all_x, decimals=0).astype(int)\n",
    "all_y = np.round(all_y, decimals=0).astype(int)\n",
    "\n",
    "all_x = all_x.reshape(patch.shape[0], patch.shape[1])\n",
    "all_y = all_y.reshape(patch.shape[0], patch.shape[1])"
   ]
  },
  {
   "cell_type": "code",
   "execution_count": null,
   "metadata": {},
   "outputs": [],
   "source": [
    "# now replace all pixels of the original image with the translated patch\n",
    "for x in range(len(patch)):\n",
    "    for y in range(len(patch[0])):\n",
    "        image[all_y[x][y]][all_x[x][y]] = patch[x][y]"
   ]
  },
  {
   "cell_type": "code",
   "execution_count": null,
   "metadata": {},
   "outputs": [],
   "source": [
    "# final result\n",
    "plt.imshow(image, cmap='gray')"
   ]
  }
 ],
 "metadata": {
  "interpreter": {
   "hash": "ce70807e73633e11500d00b049d46a12ab6fe8971ff98796a625afa87ba256a3"
  },
  "kernelspec": {
   "display_name": "Python 3.8.10 ('.front-env')",
   "language": "python",
   "name": "python3"
  },
  "language_info": {
   "codemirror_mode": {
    "name": "ipython",
    "version": 3
   },
   "file_extension": ".py",
   "mimetype": "text/x-python",
   "name": "python",
   "nbconvert_exporter": "python",
   "pygments_lexer": "ipython3",
   "version": "3.8.10"
  },
  "orig_nbformat": 4
 },
 "nbformat": 4,
 "nbformat_minor": 2
}
