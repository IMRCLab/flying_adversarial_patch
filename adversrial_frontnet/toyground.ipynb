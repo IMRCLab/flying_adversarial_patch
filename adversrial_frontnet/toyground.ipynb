{
 "cells": [
  {
   "cell_type": "markdown",
   "source": [
    "# Testing code for later development\n",
    "## Load a saved frontnet model"
   ],
   "metadata": {}
  },
  {
   "cell_type": "code",
   "execution_count": 9,
   "source": [
    "import torch\n",
    "import numpy as np\n",
    "import sys\n",
    "\n",
    "sys.path.insert(0,'../pulp-frontnet/PyTorch')\n",
    "from Frontnet.Frontnet import FrontnetModel"
   ],
   "outputs": [],
   "metadata": {}
  },
  {
   "cell_type": "code",
   "execution_count": 4,
   "source": [
    "device = torch.device('cuda' if torch.cuda.is_available() else 'cpu')"
   ],
   "outputs": [],
   "metadata": {}
  },
  {
   "cell_type": "code",
   "execution_count": 6,
   "source": [
    "model_params = FrontnetModel.configs['160x32']\n",
    "model = FrontnetModel(**model_params)"
   ],
   "outputs": [
    {
     "output_type": "stream",
     "name": "stdout",
     "text": [
      "----------------------------------------------------------------\n",
      "        Layer (type)               Output Shape         Param #\n",
      "================================================================\n",
      "            Conv2d-1           [-1, 32, 48, 80]             800\n",
      "       BatchNorm2d-2           [-1, 32, 48, 80]              64\n",
      "              ReLU-3           [-1, 32, 48, 80]               0\n",
      "         MaxPool2d-4           [-1, 32, 24, 40]               0\n",
      "            Conv2d-5           [-1, 32, 12, 20]           9,216\n",
      "       BatchNorm2d-6           [-1, 32, 12, 20]              64\n",
      "              ReLU-7           [-1, 32, 12, 20]               0\n",
      "            Conv2d-8           [-1, 32, 12, 20]           9,216\n",
      "       BatchNorm2d-9           [-1, 32, 12, 20]              64\n",
      "             ReLU-10           [-1, 32, 12, 20]               0\n",
      "        ConvBlock-11           [-1, 32, 12, 20]               0\n",
      "           Conv2d-12            [-1, 64, 6, 10]          18,432\n",
      "      BatchNorm2d-13            [-1, 64, 6, 10]             128\n",
      "             ReLU-14            [-1, 64, 6, 10]               0\n",
      "           Conv2d-15            [-1, 64, 6, 10]          36,864\n",
      "      BatchNorm2d-16            [-1, 64, 6, 10]             128\n",
      "             ReLU-17            [-1, 64, 6, 10]               0\n",
      "        ConvBlock-18            [-1, 64, 6, 10]               0\n",
      "           Conv2d-19            [-1, 128, 3, 5]          73,728\n",
      "      BatchNorm2d-20            [-1, 128, 3, 5]             256\n",
      "             ReLU-21            [-1, 128, 3, 5]               0\n",
      "           Conv2d-22            [-1, 128, 3, 5]         147,456\n",
      "      BatchNorm2d-23            [-1, 128, 3, 5]             256\n",
      "             ReLU-24            [-1, 128, 3, 5]               0\n",
      "        ConvBlock-25            [-1, 128, 3, 5]               0\n",
      "          Dropout-26                 [-1, 1920]               0\n",
      "           Linear-27                    [-1, 4]           7,684\n",
      "================================================================\n",
      "Total params: 304,356\n",
      "Trainable params: 304,356\n",
      "Non-trainable params: 0\n",
      "----------------------------------------------------------------\n",
      "Input size (MB): 0.06\n",
      "Forward/backward pass size (MB): 3.78\n",
      "Params size (MB): 1.16\n",
      "Estimated Total Size (MB): 5.00\n",
      "----------------------------------------------------------------\n"
     ]
    }
   ],
   "metadata": {}
  },
  {
   "cell_type": "code",
   "execution_count": 7,
   "source": [
    "model_path = '../pulp-frontnet/PyTorch/Models/Frontnet160x32.pt'\n",
    "model.load_state_dict(torch.load(model_path, map_location=device)['model'])"
   ],
   "outputs": [
    {
     "output_type": "execute_result",
     "data": {
      "text/plain": [
       "<All keys matched successfully>"
      ]
     },
     "metadata": {},
     "execution_count": 7
    }
   ],
   "metadata": {}
  },
  {
   "cell_type": "markdown",
   "source": [
    "## Load the image data\n",
    "The training and testsets need to be downloaded following the tutorial provided by the Frontnet devs:\n",
    "```bash\n",
    "$ cd pulp-frontnet/PyTorch\n",
    "$ curl https://drive.switch.ch/index.php/s/FMQOLsBlbLmZWxm/download -o pulp-frontnet-data.zip\n",
    "$ unzip pulp-frontnet-data.zip\n",
    "$ rm pulp-frontnet-data.zip\n",
    "```\n",
    "Now the data can be loaded as follows:"
   ],
   "metadata": {}
  },
  {
   "cell_type": "code",
   "execution_count": 14,
   "source": [
    "from Frontnet.DataProcessor import DataProcessor\n",
    "from Frontnet.Dataset import Dataset\n",
    "from torch.utils import data"
   ],
   "outputs": [],
   "metadata": {}
  },
  {
   "cell_type": "code",
   "execution_count": 16,
   "source": [
    "testset_path = '../pulp-frontnet/PyTorch/Data/160x96StrangersTestset.pickle'\n",
    "data_params = {'batch_size': 32, 'shuffle': False, 'num_workers': 1}\n",
    "\n",
    "# Load the test data\n",
    "[x_test, y_test] = DataProcessor.ProcessTestData(testset_path)\n",
    "\n",
    "# Create the PyTorch data loaders\n",
    "test_set = Dataset(x_test, y_test)\n",
    "test_loader = data.DataLoader(test_set, **data_params)"
   ],
   "outputs": [],
   "metadata": {}
  }
 ],
 "metadata": {
  "orig_nbformat": 4,
  "language_info": {
   "name": "python",
   "version": "3.8.8",
   "mimetype": "text/x-python",
   "codemirror_mode": {
    "name": "ipython",
    "version": 3
   },
   "pygments_lexer": "ipython3",
   "nbconvert_exporter": "python",
   "file_extension": ".py"
  },
  "kernelspec": {
   "name": "python3",
   "display_name": "Python 3.8.8 64-bit ('.front-env': venv)"
  },
  "interpreter": {
   "hash": "ddf382172cf37a05a58e6fc78201fb62ef0442cff3e16a9951ca804771cee52e"
  }
 },
 "nbformat": 4,
 "nbformat_minor": 2
}