{
 "cells": [
  {
   "cell_type": "code",
   "execution_count": 22,
   "metadata": {},
   "outputs": [],
   "source": [
    "import numpy as np\n",
    "import os\n",
    "import yaml\n",
    "import argparse\n",
    "import torch\n",
    "from torch.nn.functional import mse_loss\n",
    "from tqdm import trange\n",
    "\n",
    "from src.patch_placement import place_patch\n",
    "\n",
    "import matplotlib.pyplot as plt\n",
    "%matplotlib inline\n",
    "\n",
    "import sys\n",
    "sys.path.insert(0,'pulp-frontnet/PyTorch/')\n",
    "from Frontnet.Frontnet import FrontnetModel\n",
    "\n",
    "from src.util import load_dataset\n",
    "model_path = 'pulp-frontnet/PyTorch/Models/Frontnet160x32.Q.pt'\n",
    "model_config = '160x32'\n",
    "dataset_path = 'pulp-frontnet/PyTorch/Data/160x96StrangersTestset.pickle'\n",
    "\n",
    "device = torch.device('cpu')"
   ]
  },
  {
   "cell_type": "code",
   "execution_count": 2,
   "metadata": {},
   "outputs": [],
   "source": [
    "#model = load_model(path=model_path, device=device, config=model_config)\n",
    "#model.eval()\n",
    "train_set = load_dataset(path=dataset_path, batch_size=32, shuffle=True, drop_last=False, num_workers=0, train=True)"
   ]
  },
  {
   "cell_type": "code",
   "execution_count": 3,
   "metadata": {},
   "outputs": [
    {
     "name": "stdout",
     "output_type": "stream",
     "text": [
      "----------------------------------------------------------------\n",
      "        Layer (type)               Output Shape         Param #\n",
      "================================================================\n",
      "            Conv2d-1           [-1, 32, 48, 80]             800\n",
      "       BatchNorm2d-2           [-1, 32, 48, 80]              64\n",
      "              ReLU-3           [-1, 32, 48, 80]               0\n",
      "         MaxPool2d-4           [-1, 32, 24, 40]               0\n",
      "            Conv2d-5           [-1, 32, 12, 20]           9,216\n",
      "       BatchNorm2d-6           [-1, 32, 12, 20]              64\n",
      "              ReLU-7           [-1, 32, 12, 20]               0\n",
      "            Conv2d-8           [-1, 32, 12, 20]           9,216\n",
      "       BatchNorm2d-9           [-1, 32, 12, 20]              64\n",
      "             ReLU-10           [-1, 32, 12, 20]               0\n",
      "        ConvBlock-11           [-1, 32, 12, 20]               0\n",
      "           Conv2d-12            [-1, 64, 6, 10]          18,432\n",
      "      BatchNorm2d-13            [-1, 64, 6, 10]             128\n",
      "             ReLU-14            [-1, 64, 6, 10]               0\n",
      "           Conv2d-15            [-1, 64, 6, 10]          36,864\n",
      "      BatchNorm2d-16            [-1, 64, 6, 10]             128\n",
      "             ReLU-17            [-1, 64, 6, 10]               0\n",
      "        ConvBlock-18            [-1, 64, 6, 10]               0\n",
      "           Conv2d-19            [-1, 128, 3, 5]          73,728\n",
      "      BatchNorm2d-20            [-1, 128, 3, 5]             256\n",
      "             ReLU-21            [-1, 128, 3, 5]               0\n",
      "           Conv2d-22            [-1, 128, 3, 5]         147,456\n",
      "      BatchNorm2d-23            [-1, 128, 3, 5]             256\n",
      "             ReLU-24            [-1, 128, 3, 5]               0\n",
      "        ConvBlock-25            [-1, 128, 3, 5]               0\n",
      "          Dropout-26                 [-1, 1920]               0\n",
      "           Linear-27                    [-1, 4]           7,684\n",
      "================================================================\n",
      "Total params: 304,356\n",
      "Trainable params: 304,356\n",
      "Non-trainable params: 0\n",
      "----------------------------------------------------------------\n",
      "Input size (MB): 0.06\n",
      "Forward/backward pass size (MB): 3.78\n",
      "Params size (MB): 1.16\n",
      "Estimated Total Size (MB): 5.00\n",
      "----------------------------------------------------------------\n"
     ]
    }
   ],
   "source": [
    "import nemo\n",
    "from Frontnet.Utils import ModelManager\n",
    "\n",
    "\n",
    "model_params = FrontnetModel.configs[model_config]\n",
    "w, h, c = model_params['w'], model_params['h'], model_params['c']\n",
    "\n",
    "model = FrontnetModel(**model_params)\n",
    "\n",
    "model = nemo.transform.quantize_pact(model, dummy_input=torch.ones((1, 1, h, w)).to(\"cpu\"))\n",
    "epoch, prec_dict = ModelManager.ReadQ(model_path, model)"
   ]
  },
  {
   "cell_type": "code",
   "execution_count": 4,
   "metadata": {},
   "outputs": [],
   "source": [
    "image, gt = train_set.dataset.__getitem__(0)\n",
    "image = image.unsqueeze(0)"
   ]
  },
  {
   "cell_type": "code",
   "execution_count": 5,
   "metadata": {},
   "outputs": [],
   "source": [
    "pred = torch.cat(model(image)).squeeze(1)"
   ]
  },
  {
   "cell_type": "code",
   "execution_count": 6,
   "metadata": {},
   "outputs": [
    {
     "data": {
      "text/plain": [
       "<matplotlib.image.AxesImage at 0x7fc09fcfa8e0>"
      ]
     },
     "execution_count": 6,
     "metadata": {},
     "output_type": "execute_result"
    }
   ],
   "source": [
    "plt.imshow(image[0][0].numpy(), cmap='gray')"
   ]
  },
  {
   "cell_type": "code",
   "execution_count": 7,
   "metadata": {},
   "outputs": [
    {
     "name": "stdout",
     "output_type": "stream",
     "text": [
      "tensor([ 1.4889,  1.0100,  0.3417, -0.3669], grad_fn=<SqueezeBackward1>)\n",
      "tensor([1.1624, 0.7180, 0.3299, 0.0713])\n",
      "tensor(0.0960, grad_fn=<MseLossBackward0>)\n"
     ]
    }
   ],
   "source": [
    "print(pred)\n",
    "print(gt)\n",
    "\n",
    "mse = torch.nn.functional.mse_loss(pred, gt)\n",
    "print(mse)"
   ]
  },
  {
   "cell_type": "code",
   "execution_count": 8,
   "metadata": {},
   "outputs": [],
   "source": [
    "# load optimized patch P and set of transformation matrices\n",
    "patch = np.load('eval/exp1/hybrid5/patches.npy')[-1]\n",
    "set_transforms = np.load('eval/exp1/hybrid5/positions_norm.npy')[:, -1]\n",
    "targets = np.array([[1., -1., 0.], [1., 1., 0.]])"
   ]
  },
  {
   "cell_type": "code",
   "execution_count": 9,
   "metadata": {},
   "outputs": [],
   "source": [
    "patch = torch.tensor(patch).unsqueeze(0).unsqueeze(0) * 255.\n",
    "set_transforms = torch.tensor(set_transforms)"
   ]
  },
  {
   "cell_type": "code",
   "execution_count": 62,
   "metadata": {},
   "outputs": [],
   "source": [
    "# noisy rotation matrix\n",
    "\n",
    "random_yaw = np.random.uniform(-0.3, 0.3)\n",
    "rotation_yaw = np.array([[np.cos(random_yaw), -np.sin(random_yaw), 0.0],\n",
    "                         [np.sin(random_yaw), np.cos(random_yaw), 0.0],\n",
    "                         [0.0, 0.0, 1.0]])\n",
    "\n",
    "random_pitch = 0.0#np.random.uniform(-0.12, 0.12)     \n",
    "rotation_pitch = np.array([[np.cos(random_pitch), 0.0, np.sin(random_pitch)],\n",
    "                           [0.0, 1.0, 0.0],\n",
    "                           [-np.sin(random_pitch), 0.0, np.cos(random_pitch)]])\n",
    "\n",
    "random_roll = np.random.uniform(-0.3, 0.3)  \n",
    "rotation_roll = np.array([[1.0, 0.0, 0.0],\n",
    "                          [0.0, np.cos(random_roll), -np.sin(random_roll)],\n",
    "                          [0.0, np.sin(random_roll), np.cos(random_roll)]])     "
   ]
  },
  {
   "cell_type": "code",
   "execution_count": 63,
   "metadata": {},
   "outputs": [
    {
     "name": "stdout",
     "output_type": "stream",
     "text": [
      "[[ 0.9730367  -0.22617676 -0.04520681]\n",
      " [ 0.23065034  0.95416414  0.1907124 ]\n",
      " [ 0.         -0.19599713  0.98060447]]\n"
     ]
    }
   ],
   "source": [
    "rotation_matrix = rotation_yaw @ rotation_pitch @ rotation_roll\n",
    "print(rotation_matrix)"
   ]
  },
  {
   "cell_type": "code",
   "execution_count": 64,
   "metadata": {},
   "outputs": [
    {
     "name": "stdout",
     "output_type": "stream",
     "text": [
      "tensor([[ 0.9730, -0.2262, -0.0452],\n",
      "        [ 0.2307,  0.9542,  0.1907],\n",
      "        [ 0.0000, -0.1960,  0.9806]], dtype=torch.float64)\n"
     ]
    }
   ],
   "source": [
    "rotation = torch.tensor(rotation_matrix)\n",
    "print(rotation)"
   ]
  },
  {
   "cell_type": "code",
   "execution_count": 65,
   "metadata": {},
   "outputs": [],
   "source": [
    "def get_transformation(sf, tx, ty):\n",
    "    translation_vector = torch.stack([tx, ty, torch.zeros([1])]).unsqueeze(0)\n",
    "\n",
    "    eye = torch.eye(3, 3).unsqueeze(0).to(sf.device)\n",
    "    scale = eye * sf\n",
    "\n",
    "    rotation_matrix = rotation.float() @ scale\n",
    "\n",
    "    transformation_matrix = torch.cat((rotation_matrix, translation_vector), dim=2)\n",
    "    return transformation_matrix.float()\n",
    "\n",
    "transformation_matrix = get_transformation(*set_transforms[:, 0, :])"
   ]
  },
  {
   "cell_type": "code",
   "execution_count": 66,
   "metadata": {},
   "outputs": [
    {
     "data": {
      "text/plain": [
       "tensor([[[ 0.4865, -0.1131, -0.0226,  0.5010],\n",
       "         [ 0.1153,  0.4771,  0.0954,  0.4480],\n",
       "         [ 0.0000, -0.0980,  0.4903,  0.0000]]])"
      ]
     },
     "execution_count": 66,
     "metadata": {},
     "output_type": "execute_result"
    }
   ],
   "source": [
    "transformation_matrix"
   ]
  },
  {
   "cell_type": "code",
   "execution_count": 67,
   "metadata": {},
   "outputs": [],
   "source": [
    "mod_img = place_patch(image.unsqueeze(0), patch.unsqueeze(0), transformation_matrix)"
   ]
  },
  {
   "cell_type": "code",
   "execution_count": 68,
   "metadata": {},
   "outputs": [],
   "source": [
    "%matplotlib inline"
   ]
  },
  {
   "cell_type": "code",
   "execution_count": 69,
   "metadata": {},
   "outputs": [
    {
     "data": {
      "image/png": "[encoded data removed]",
      "text/plain": [
       "<Figure size 432x288 with 1 Axes>"
      ]
     },
     "metadata": {
      "needs_background": "light"
     },
     "output_type": "display_data"
    }
   ],
   "source": [
    "plt.imshow(mod_img[0][0][0].numpy(), cmap='gray')\n",
    "plt.show()"
   ]
  },
  {
   "cell_type": "code",
   "execution_count": 17,
   "metadata": {},
   "outputs": [],
   "source": [
    "pred_attack = torch.cat(model(mod_img)).squeeze(1)"
   ]
  },
  {
   "cell_type": "code",
   "execution_count": 18,
   "metadata": {},
   "outputs": [
    {
     "name": "stdout",
     "output_type": "stream",
     "text": [
      "tensor([ 1.0786, -0.7284,  0.1184, -0.0299], grad_fn=<SqueezeBackward1>)\n",
      "tensor([1.1624, 0.7180, 0.3299, 0.0713])\n",
      "tensor(0.5386, grad_fn=<MseLossBackward0>)\n"
     ]
    }
   ],
   "source": [
    "print(pred_attack)\n",
    "print(gt)\n",
    "\n",
    "loss = torch.nn.functional.mse_loss(pred_attack, gt)\n",
    "print(loss)"
   ]
  },
  {
   "cell_type": "code",
   "execution_count": 45,
   "metadata": {},
   "outputs": [
    {
     "name": "stdout",
     "output_type": "stream",
     "text": [
      "torch.Size([403, 1, 96, 160])\n"
     ]
    }
   ],
   "source": [
    "# test on whole dataset\n",
    "images, all_gt = train_set.dataset[:]\n",
    "print(images.shape)"
   ]
  },
  {
   "cell_type": "code",
   "execution_count": 46,
   "metadata": {},
   "outputs": [],
   "source": [
    "predictions = torch.stack(model(images)).squeeze(2).mT"
   ]
  },
  {
   "cell_type": "code",
   "execution_count": 47,
   "metadata": {},
   "outputs": [
    {
     "name": "stdout",
     "output_type": "stream",
     "text": [
      "MSE to ground truth:  tensor(0.3895, grad_fn=<MseLossBackward0>)\n",
      "MSE to [ 1. -1.  0.]:  tensor(1.6094, dtype=torch.float64, grad_fn=<MseLossBackward0>)\n",
      "MSE to [1. 1. 0.]:  tensor(0.6325, dtype=torch.float64, grad_fn=<MseLossBackward0>)\n"
     ]
    }
   ],
   "source": [
    "mse_gt = torch.nn.functional.mse_loss(predictions, all_gt)\n",
    "mse_target = torch.nn.functional.mse_loss(predictions[..., :3], torch.tensor(targets[0]).repeat(len(predictions), 1))\n",
    "print(\"MSE to ground truth: \", mse_gt)\n",
    "print(f\"MSE to {targets[0]}: \", mse_target)\n",
    "mse_target = torch.nn.functional.mse_loss(predictions[..., :3], torch.tensor(targets[1]).repeat(len(predictions), 1))\n",
    "print(f\"MSE to {targets[1]}: \", mse_target)"
   ]
  },
  {
   "cell_type": "code",
   "execution_count": null,
   "metadata": {},
   "outputs": [],
   "source": [
    "# first target"
   ]
  },
  {
   "cell_type": "code",
   "execution_count": 48,
   "metadata": {},
   "outputs": [],
   "source": [
    "mod_images = place_patch(images, patch, transformation_matrix)"
   ]
  },
  {
   "cell_type": "code",
   "execution_count": 49,
   "metadata": {},
   "outputs": [],
   "source": [
    "predictions_mod = torch.stack(model(mod_images)).squeeze(2).mT"
   ]
  },
  {
   "cell_type": "code",
   "execution_count": 50,
   "metadata": {},
   "outputs": [
    {
     "name": "stdout",
     "output_type": "stream",
     "text": [
      "MSE to ground truth:  tensor(1.0352, grad_fn=<MseLossBackward0>)\n",
      "MSE to [ 1. -1.  0.]:  tensor(0.0301, dtype=torch.float64, grad_fn=<MseLossBackward0>)\n"
     ]
    }
   ],
   "source": [
    "mod_mse_gt = torch.nn.functional.mse_loss(predictions_mod, all_gt)\n",
    "mod_mse_target = torch.nn.functional.mse_loss(predictions_mod[..., :3], torch.tensor(targets[0]).repeat(len(predictions), 1))\n",
    "print(\"MSE to ground truth: \", mod_mse_gt)\n",
    "print(f\"MSE to {targets[0]}: \", mod_mse_target)"
   ]
  },
  {
   "cell_type": "code",
   "execution_count": null,
   "metadata": {},
   "outputs": [],
   "source": [
    "# second target"
   ]
  },
  {
   "cell_type": "code",
   "execution_count": 51,
   "metadata": {},
   "outputs": [
    {
     "name": "stdout",
     "output_type": "stream",
     "text": [
      "tensor([[[ 0.5000,  0.0000, -0.7826],\n",
      "         [ 0.0000,  0.5000,  0.4968]]])\n"
     ]
    }
   ],
   "source": [
    "transformation_matrix_2 = get_transformation(*set_transforms[:, 1, :])\n",
    "print(transformation_matrix_2)"
   ]
  },
  {
   "cell_type": "code",
   "execution_count": 52,
   "metadata": {},
   "outputs": [
    {
     "name": "stdout",
     "output_type": "stream",
     "text": [
      "MSE to ground truth:  tensor(0.5068, grad_fn=<MseLossBackward0>)\n",
      "MSE to [1. 1. 0.]:  tensor(0.0342, dtype=torch.float64, grad_fn=<MseLossBackward0>)\n"
     ]
    }
   ],
   "source": [
    "mod_images = place_patch(images, patch, transformation_matrix_2)\n",
    "predictions_mod = torch.stack(model(mod_images)).squeeze(2).mT\n",
    "mod_mse_gt = torch.nn.functional.mse_loss(predictions_mod, all_gt)\n",
    "mod_mse_target = torch.nn.functional.mse_loss(predictions_mod[..., :3], torch.tensor(targets[1]).repeat(len(predictions), 1))\n",
    "print(\"MSE to ground truth: \", mod_mse_gt)\n",
    "print(f\"MSE to {targets[1]}: \", mod_mse_target)"
   ]
  }
 ],
 "metadata": {
  "interpreter": {
   "hash": "ce70807e73633e11500d00b049d46a12ab6fe8971ff98796a625afa87ba256a3"
  },
  "kernelspec": {
   "display_name": "Python 3.8.10 ('.front-env')",
   "language": "python",
   "name": "python3"
  },
  "language_info": {
   "codemirror_mode": {
    "name": "ipython",
    "version": 3
   },
   "file_extension": ".py",
   "mimetype": "text/x-python",
   "name": "python",
   "nbconvert_exporter": "python",
   "pygments_lexer": "ipython3",
   "version": "3.8.10"
  },
  "orig_nbformat": 4
 },
 "nbformat": 4,
 "nbformat_minor": 2
}
